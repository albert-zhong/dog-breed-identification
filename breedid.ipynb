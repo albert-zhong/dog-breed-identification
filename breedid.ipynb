{
 "cells": [
  {
   "cell_type": "code",
   "execution_count": 1,
   "metadata": {},
   "outputs": [
    {
     "name": "stderr",
     "output_type": "stream",
     "text": [
      "/homes/iws/amousavi/miniconda3/envs/mynlpenv/lib/python3.8/site-packages/tqdm/auto.py:22: TqdmWarning: IProgress not found. Please update jupyter and ipywidgets. See https://ipywidgets.readthedocs.io/en/stable/user_install.html\n",
      "  from .autonotebook import tqdm as notebook_tqdm\n"
     ]
    }
   ],
   "source": [
    "import os\n",
    "import torch\n",
    "import pandas as pd\n",
    "import numpy as np\n",
    "import torchvision\n",
    "import torch.nn as nn\n",
    "import torch.optim as optim\n",
    "import matplotlib.pyplot as plt\n",
    "import torchvision.transforms as transforms\n",
    "import torchvision.models as models\n",
    "from PIL import Image\n",
    "from tqdm import tqdm"
   ]
  },
  {
   "cell_type": "code",
   "execution_count": 2,
   "metadata": {},
   "outputs": [],
   "source": [
    "torch.manual_seed(31337);\n",
    "#device = \"cuda\" if torch.cuda.is_available() else \"cpu\"\n",
    "device = \"cpu\"\n",
    "kwargs = {'num_workers': 2, 'pin_memory': True} if device=='cuda' else {}"
   ]
  },
  {
   "cell_type": "code",
   "execution_count": 3,
   "metadata": {},
   "outputs": [],
   "source": [
    "images = torchvision.datasets.ImageFolder(\"./images/Images\")"
   ]
  },
  {
   "cell_type": "code",
   "execution_count": 4,
   "metadata": {},
   "outputs": [
    {
     "name": "stdout",
     "output_type": "stream",
     "text": [
      "['n02085620-Chihuahua', 'n02085782-Japanese_spaniel', 'n02085936-Maltese_dog', 'n02086079-Pekinese', 'n02086240-Shih-Tzu', 'n02086646-Blenheim_spaniel', 'n02086910-papillon', 'n02087046-toy_terrier', 'n02087394-Rhodesian_ridgeback', 'n02088094-Afghan_hound', 'n02088238-basset', 'n02088364-beagle', 'n02088466-bloodhound', 'n02088632-bluetick', 'n02089078-black-and-tan_coonhound', 'n02089867-Walker_hound', 'n02089973-English_foxhound', 'n02090379-redbone', 'n02090622-borzoi', 'n02090721-Irish_wolfhound', 'n02091032-Italian_greyhound', 'n02091134-whippet', 'n02091244-Ibizan_hound', 'n02091467-Norwegian_elkhound', 'n02091635-otterhound', 'n02091831-Saluki', 'n02092002-Scottish_deerhound', 'n02092339-Weimaraner', 'n02093256-Staffordshire_bullterrier', 'n02093428-American_Staffordshire_terrier', 'n02093647-Bedlington_terrier', 'n02093754-Border_terrier', 'n02093859-Kerry_blue_terrier', 'n02093991-Irish_terrier', 'n02094114-Norfolk_terrier', 'n02094258-Norwich_terrier', 'n02094433-Yorkshire_terrier', 'n02095314-wire-haired_fox_terrier', 'n02095570-Lakeland_terrier', 'n02095889-Sealyham_terrier', 'n02096051-Airedale', 'n02096177-cairn', 'n02096294-Australian_terrier', 'n02096437-Dandie_Dinmont', 'n02096585-Boston_bull', 'n02097047-miniature_schnauzer', 'n02097130-giant_schnauzer', 'n02097209-standard_schnauzer', 'n02097298-Scotch_terrier', 'n02097474-Tibetan_terrier', 'n02097658-silky_terrier', 'n02098105-soft-coated_wheaten_terrier', 'n02098286-West_Highland_white_terrier', 'n02098413-Lhasa', 'n02099267-flat-coated_retriever', 'n02099429-curly-coated_retriever', 'n02099601-golden_retriever', 'n02099712-Labrador_retriever', 'n02099849-Chesapeake_Bay_retriever', 'n02100236-German_short-haired_pointer', 'n02100583-vizsla', 'n02100735-English_setter', 'n02100877-Irish_setter', 'n02101006-Gordon_setter', 'n02101388-Brittany_spaniel', 'n02101556-clumber', 'n02102040-English_springer', 'n02102177-Welsh_springer_spaniel', 'n02102318-cocker_spaniel', 'n02102480-Sussex_spaniel', 'n02102973-Irish_water_spaniel', 'n02104029-kuvasz', 'n02104365-schipperke', 'n02105056-groenendael', 'n02105162-malinois', 'n02105251-briard', 'n02105412-kelpie', 'n02105505-komondor', 'n02105641-Old_English_sheepdog', 'n02105855-Shetland_sheepdog', 'n02106030-collie', 'n02106166-Border_collie', 'n02106382-Bouvier_des_Flandres', 'n02106550-Rottweiler', 'n02106662-German_shepherd', 'n02107142-Doberman', 'n02107312-miniature_pinscher', 'n02107574-Greater_Swiss_Mountain_dog', 'n02107683-Bernese_mountain_dog', 'n02107908-Appenzeller', 'n02108000-EntleBucher', 'n02108089-boxer', 'n02108422-bull_mastiff', 'n02108551-Tibetan_mastiff', 'n02108915-French_bulldog', 'n02109047-Great_Dane', 'n02109525-Saint_Bernard', 'n02109961-Eskimo_dog', 'n02110063-malamute', 'n02110185-Siberian_husky', 'n02110627-affenpinscher', 'n02110806-basenji', 'n02110958-pug', 'n02111129-Leonberg', 'n02111277-Newfoundland', 'n02111500-Great_Pyrenees', 'n02111889-Samoyed', 'n02112018-Pomeranian', 'n02112137-chow', 'n02112350-keeshond', 'n02112706-Brabancon_griffon', 'n02113023-Pembroke', 'n02113186-Cardigan', 'n02113624-toy_poodle', 'n02113712-miniature_poodle', 'n02113799-standard_poodle', 'n02113978-Mexican_hairless', 'n02115641-dingo', 'n02115913-dhole', 'n02116738-African_hunting_dog']\n"
     ]
    }
   ],
   "source": [
    "labels = []\n",
    "for label in images.classes:\n",
    "    labels.append(label)\n",
    "print(labels)"
   ]
  },
  {
   "cell_type": "code",
   "execution_count": 6,
   "metadata": {},
   "outputs": [
    {
     "name": "stdout",
     "output_type": "stream",
     "text": [
      "14406 3087 3087\n"
     ]
    }
   ],
   "source": [
    "test_size = int(len(images)*0.15)\n",
    "validation_size = int(len(images)*0.15)\n",
    "train_size = len(images) - test_size - validation_size\n",
    "print(train_size, validation_size, test_size)\n",
    "train_images, validation_images, test_images = torch.utils.data.random_split(images, [train_size, validation_size, test_size])"
   ]
  },
  {
   "cell_type": "code",
   "execution_count": 7,
   "metadata": {},
   "outputs": [],
   "source": [
    "class TransformedDataset(torch.utils.data.Dataset):\n",
    "    def __init__(self, dataset, transform=None):\n",
    "        self.dataset = dataset\n",
    "        self.transform = transform\n",
    "\n",
    "    def __getitem__(self, index):\n",
    "        if self.transform:\n",
    "            x = self.transform(self.dataset[index][0])\n",
    "        else:\n",
    "            x = self.dataset[index][0]\n",
    "        y = self.dataset[index][1]\n",
    "        return x, y\n",
    "    \n",
    "    def __len__(self):\n",
    "        return len(self.dataset)"
   ]
  },
  {
   "cell_type": "code",
   "execution_count": 8,
   "metadata": {},
   "outputs": [],
   "source": [
    "data_transforms = {\n",
    "    'train': transforms.Compose([\n",
    "        transforms.Resize(256),\n",
    "        transforms.RandomCrop(227, padding=4, padding_mode='reflect'),\n",
    "        transforms.RandomHorizontalFlip(p=0.3),\n",
    "        transforms.RandomRotation(degrees=30),\n",
    "        transforms.ToTensor(),\n",
    "        #transforms.Normalize([0.485, 0.456, 0.406], [0.229, 0.224, 0.225])\n",
    "    ]),\n",
    "    'validation': transforms.Compose([\n",
    "        transforms.Resize(256),\n",
    "        transforms.CenterCrop(227),\n",
    "        transforms.ToTensor(),\n",
    "        #transforms.Normalize([0.485, 0.456, 0.406], [0.229, 0.224, 0.225])\n",
    "    ]),\n",
    "    'test': transforms.Compose([\n",
    "        transforms.Resize(256),\n",
    "        transforms.CenterCrop(227),\n",
    "        transforms.ToTensor(),\n",
    "        #transforms.Normalize([0.485, 0.456, 0.406], [0.229, 0.224, 0.225])\n",
    "    ]),\n",
    "}"
   ]
  },
  {
   "cell_type": "code",
   "execution_count": 9,
   "metadata": {},
   "outputs": [],
   "source": [
    "train_dataset = TransformedDataset(train_images, data_transforms['train'])\n",
    "validation_dataset = TransformedDataset(validation_images, data_transforms['validation'])\n",
    "test_dataset = TransformedDataset(test_images, data_transforms['test'])"
   ]
  },
  {
   "cell_type": "code",
   "execution_count": 10,
   "metadata": {},
   "outputs": [],
   "source": [
    "batch_size = 64\n",
    "trainloader = torch.utils.data.DataLoader(dataset=train_dataset, shuffle=True, batch_size=batch_size, **kwargs)\n",
    "validationloader = torch.utils.data.DataLoader(dataset=validation_dataset, shuffle=False, batch_size=batch_size, **kwargs)"
   ]
  },
  {
   "cell_type": "code",
   "execution_count": 11,
   "metadata": {},
   "outputs": [],
   "source": [
    "model = models.resnet34(pretrained=True)\n",
    "in_count = model.fc.in_features\n",
    "for param in model.parameters():\n",
    "    param.requires_grad = False\n",
    "model.fc = nn.Sequential(\n",
    "    nn.Linear(in_count, len(labels)),\n",
    "    nn.LogSoftmax(dim=1)\n",
    ")\n",
    "# model = model.to(device)\n",
    "\n",
    "# model = models.squeezenet1_1(pretrained=True)\n",
    "# for param in model.parameters():\n",
    "#     param.requires_grad = False\n",
    "# num_features = model.classifier[1].in_channels\n",
    "# # features = list(model.classifier.children())[:-3] # Remove last 3 layers\n",
    "# # features.extend([nn.Conv2d(num_features, len(all_labels), kernel_size=1)]) # Add\n",
    "# # features.extend([nn.ReLU(inplace=True)]) # Add\n",
    "# # features.extend([nn.AdaptiveAvgPool2d(output_size=(1,1))]) # Add\n",
    "# model.classifier = nn.Sequential(\n",
    "#     nn.Linear(num_features, len(labels)),\n",
    "#     nn.LogSoftmax(dim=1)\n",
    "# ) # Replace the model classifier\n",
    "# model = model.to(device)"
   ]
  },
  {
   "cell_type": "code",
   "execution_count": 12,
   "metadata": {},
   "outputs": [],
   "source": [
    "criterion = nn.CrossEntropyLoss()\n",
    "optimizer = optim.SGD(model.parameters(), lr=0.01, momentum=0, weight_decay = 0.0001)\n",
    "opt_func = torch.optim.SGD\n",
    "\n",
    "training_losses = []\n",
    "validation_losses = []\n",
    "validation_accuracies = []"
   ]
  },
  {
   "cell_type": "code",
   "execution_count": 14,
   "metadata": {},
   "outputs": [
    {
     "name": "stderr",
     "output_type": "stream",
     "text": [
      "100%|█████████████████████████████████████████| 226/226 [08:09<00:00,  2.17s/it]\n",
      "100%|███████████████████████████████████████████| 49/49 [02:03<00:00,  2.51s/it]\n"
     ]
    },
    {
     "name": "stdout",
     "output_type": "stream",
     "text": [
      "epoch:  1\n",
      "training loss:  3.4143302862623095\n",
      "validation loss:  2.793965213152827\n",
      "validation accuracy:  50.34013605442177\n"
     ]
    },
    {
     "name": "stderr",
     "output_type": "stream",
     "text": [
      "100%|█████████████████████████████████████████| 226/226 [08:56<00:00,  2.37s/it]\n",
      "100%|███████████████████████████████████████████| 49/49 [02:04<00:00,  2.55s/it]\n"
     ]
    },
    {
     "name": "stdout",
     "output_type": "stream",
     "text": [
      "epoch:  2\n",
      "training loss:  2.7394856984636426\n",
      "validation loss:  2.1717438600501238\n",
      "validation accuracy:  62.61742792355037\n"
     ]
    },
    {
     "name": "stderr",
     "output_type": "stream",
     "text": [
      "100%|█████████████████████████████████████████| 226/226 [08:24<00:00,  2.23s/it]\n",
      "100%|███████████████████████████████████████████| 49/49 [01:43<00:00,  2.11s/it]\n"
     ]
    },
    {
     "name": "stdout",
     "output_type": "stream",
     "text": [
      "epoch:  3\n",
      "training loss:  2.274646463647353\n",
      "validation loss:  1.7802688102332913\n",
      "validation accuracy:  68.64269517330742\n"
     ]
    },
    {
     "name": "stderr",
     "output_type": "stream",
     "text": [
      "100%|█████████████████████████████████████████| 226/226 [12:34<00:00,  3.34s/it]\n",
      "100%|███████████████████████████████████████████| 49/49 [02:36<00:00,  3.19s/it]\n"
     ]
    },
    {
     "name": "stdout",
     "output_type": "stream",
     "text": [
      "epoch:  4\n",
      "training loss:  1.9686442476458255\n",
      "validation loss:  1.5322612913287417\n",
      "validation accuracy:  70.74829931972789\n"
     ]
    },
    {
     "name": "stderr",
     "output_type": "stream",
     "text": [
      "100%|█████████████████████████████████████████| 226/226 [11:56<00:00,  3.17s/it]\n",
      "100%|███████████████████████████████████████████| 49/49 [02:30<00:00,  3.07s/it]\n"
     ]
    },
    {
     "name": "stdout",
     "output_type": "stream",
     "text": [
      "epoch:  5\n",
      "training loss:  1.7586115640876567\n",
      "validation loss:  1.3572351178344415\n",
      "validation accuracy:  72.69193391642371\n"
     ]
    },
    {
     "name": "stderr",
     "output_type": "stream",
     "text": [
      "100%|█████████████████████████████████████████| 226/226 [11:59<00:00,  3.18s/it]\n",
      "100%|███████████████████████████████████████████| 49/49 [02:32<00:00,  3.12s/it]\n"
     ]
    },
    {
     "name": "stdout",
     "output_type": "stream",
     "text": [
      "epoch:  6\n",
      "training loss:  1.6041401039182612\n",
      "validation loss:  1.2236000056169472\n",
      "validation accuracy:  75.08908325234856\n"
     ]
    },
    {
     "name": "stderr",
     "output_type": "stream",
     "text": [
      "100%|█████████████████████████████████████████| 226/226 [12:14<00:00,  3.25s/it]\n",
      "100%|███████████████████████████████████████████| 49/49 [02:32<00:00,  3.11s/it]\n"
     ]
    },
    {
     "name": "stdout",
     "output_type": "stream",
     "text": [
      "epoch:  7\n",
      "training loss:  1.4999433038508998\n",
      "validation loss:  1.1347487349899448\n",
      "validation accuracy:  75.70456754130224\n"
     ]
    },
    {
     "name": "stderr",
     "output_type": "stream",
     "text": [
      "100%|█████████████████████████████████████████| 226/226 [11:57<00:00,  3.18s/it]\n",
      "100%|███████████████████████████████████████████| 49/49 [02:39<00:00,  3.26s/it]\n"
     ]
    },
    {
     "name": "stdout",
     "output_type": "stream",
     "text": [
      "epoch:  8\n",
      "training loss:  1.4141401809401217\n",
      "validation loss:  1.0576219193789425\n",
      "validation accuracy:  77.03271784904437\n"
     ]
    },
    {
     "name": "stderr",
     "output_type": "stream",
     "text": [
      "100%|█████████████████████████████████████████| 226/226 [12:07<00:00,  3.22s/it]\n",
      "100%|███████████████████████████████████████████| 49/49 [02:37<00:00,  3.22s/it]\n"
     ]
    },
    {
     "name": "stdout",
     "output_type": "stream",
     "text": [
      "epoch:  9\n",
      "training loss:  1.328163936074856\n",
      "validation loss:  1.0028191464287894\n",
      "validation accuracy:  77.0651117589893\n"
     ]
    },
    {
     "name": "stderr",
     "output_type": "stream",
     "text": [
      "100%|█████████████████████████████████████████| 226/226 [12:08<00:00,  3.22s/it]\n",
      "100%|███████████████████████████████████████████| 49/49 [02:34<00:00,  3.14s/it]\n"
     ]
    },
    {
     "name": "stdout",
     "output_type": "stream",
     "text": [
      "epoch:  10\n",
      "training loss:  1.279678049868187\n",
      "validation loss:  0.9562422292573112\n",
      "validation accuracy:  77.68059604794298\n"
     ]
    },
    {
     "name": "stderr",
     "output_type": "stream",
     "text": [
      "100%|█████████████████████████████████████████| 226/226 [12:09<00:00,  3.23s/it]\n",
      "100%|███████████████████████████████████████████| 49/49 [02:34<00:00,  3.15s/it]\n"
     ]
    },
    {
     "name": "stdout",
     "output_type": "stream",
     "text": [
      "epoch:  11\n",
      "training loss:  1.2320747597027668\n",
      "validation loss:  0.9183012064622373\n",
      "validation accuracy:  78.26368642695174\n"
     ]
    },
    {
     "name": "stderr",
     "output_type": "stream",
     "text": [
      "100%|█████████████████████████████████████████| 226/226 [12:07<00:00,  3.22s/it]\n",
      "100%|███████████████████████████████████████████| 49/49 [02:33<00:00,  3.13s/it]\n"
     ]
    },
    {
     "name": "stdout",
     "output_type": "stream",
     "text": [
      "epoch:  12\n",
      "training loss:  1.1888945537858304\n",
      "validation loss:  0.8902392168434299\n",
      "validation accuracy:  78.52283770651118\n"
     ]
    },
    {
     "name": "stderr",
     "output_type": "stream",
     "text": [
      "100%|█████████████████████████████████████████| 226/226 [12:05<00:00,  3.21s/it]\n",
      "100%|███████████████████████████████████████████| 49/49 [02:33<00:00,  3.12s/it]\n"
     ]
    },
    {
     "name": "stdout",
     "output_type": "stream",
     "text": [
      "epoch:  13\n",
      "training loss:  1.1607720501127496\n",
      "validation loss:  0.864422872358439\n",
      "validation accuracy:  78.58762552640104\n"
     ]
    },
    {
     "name": "stderr",
     "output_type": "stream",
     "text": [
      "100%|█████████████████████████████████████████| 226/226 [11:58<00:00,  3.18s/it]\n",
      "100%|███████████████████████████████████████████| 49/49 [02:31<00:00,  3.09s/it]\n"
     ]
    },
    {
     "name": "stdout",
     "output_type": "stream",
     "text": [
      "epoch:  14\n",
      "training loss:  1.1275887689759245\n",
      "validation loss:  0.8450664135874534\n",
      "validation accuracy:  79.00874635568513\n"
     ]
    },
    {
     "name": "stderr",
     "output_type": "stream",
     "text": [
      "100%|█████████████████████████████████████████| 226/226 [11:49<00:00,  3.14s/it]\n",
      "100%|███████████████████████████████████████████| 49/49 [02:29<00:00,  3.06s/it]"
     ]
    },
    {
     "name": "stdout",
     "output_type": "stream",
     "text": [
      "epoch:  15\n",
      "training loss:  1.0999305427601906\n",
      "validation loss:  0.8215536274472062\n",
      "validation accuracy:  79.30029154518951\n"
     ]
    },
    {
     "name": "stderr",
     "output_type": "stream",
     "text": [
      "\n"
     ]
    }
   ],
   "source": [
    "for epoch in range(15):  # loop over the dataset multiple times\n",
    "    training_loss_epoch = 0\n",
    "    validation_loss_epoch = 0\n",
    "    validation_correct = 0\n",
    "    validation_total = 0\n",
    "    for batch in tqdm(trainloader):\n",
    "        # get the inputs; data is a list of [inputs, labels]\n",
    "        inputs, labels = batch\n",
    "        inputs, labels = inputs.to(device), labels.to(device)\n",
    "        # zero the parameter gradients\n",
    "        optimizer.zero_grad()\n",
    "        # forward + backward + optimize\n",
    "        outputs = model(inputs)\n",
    "        loss = criterion(outputs, labels)\n",
    "        loss.backward()\n",
    "        training_loss_epoch += loss.item()\n",
    "        optimizer.step()\n",
    "    for batch in tqdm(validationloader):\n",
    "        inputs, labels = batch\n",
    "        inputs, labels = inputs.to(device), labels.to(device)\n",
    "        # forward + backward + optimize\n",
    "        outputs = model(inputs)\n",
    "        loss = criterion(outputs, labels)\n",
    "        validation_loss_epoch += loss.item()\n",
    "        count = torch.eq(torch.argmax(outputs.data, dim=1), labels).sum().item()\n",
    "        validation_correct += count\n",
    "        validation_total += labels.size(0)\n",
    "    training_loss_epoch /= len(trainloader)\n",
    "    validation_loss_epoch /= len(validationloader)\n",
    "    training_losses.append(training_loss_epoch)\n",
    "    validation_losses.append(validation_loss_epoch)\n",
    "    validation_accuracy_epoch = 100.0 * float(validation_correct) / validation_total\n",
    "    validation_accuracies.append(validation_accuracy_epoch)\n",
    "    print(\"epoch: \", epoch + 1)\n",
    "    print(\"training loss: \", training_loss_epoch)\n",
    "    print(\"validation loss: \", validation_loss_epoch)\n",
    "    print(\"validation accuracy: \", validation_accuracy_epoch)"
   ]
  },
  {
   "cell_type": "code",
   "execution_count": 15,
   "metadata": {},
   "outputs": [
    {
     "data": {
      "image/png": "[encoded data removed]",
      "text/plain": [
       "<Figure size 432x288 with 1 Axes>"
      ]
     },
     "metadata": {
      "needs_background": "light"
     },
     "output_type": "display_data"
    }
   ],
   "source": [
    "plt.plot(range(len(training_losses)), training_losses)\n",
    "plt.xlabel('Epochs')\n",
    "plt.ylabel('loss')\n",
    "plt.title('training loss vs epoch')\n",
    "plt.show()\n",
    "plt.close()"
   ]
  },
  {
   "cell_type": "code",
   "execution_count": 16,
   "metadata": {},
   "outputs": [
    {
     "data": {
      "image/png": "[encoded data removed]",
      "text/plain": [
       "<Figure size 432x288 with 1 Axes>"
      ]
     },
     "metadata": {
      "needs_background": "light"
     },
     "output_type": "display_data"
    },
    {
     "name": "stdout",
     "output_type": "stream",
     "text": [
      "max validation accuracy:  79.30029154518951\n"
     ]
    }
   ],
   "source": [
    "plt.plot(range(len(validation_losses)),validation_losses)\n",
    "plt.xlabel('Epochs')\n",
    "plt.ylabel('loss')\n",
    "plt.title('validation loss vs epoch')\n",
    "plt.show()\n",
    "plt.close()\n",
    "print('max validation accuracy: ', max(validation_accuracies))"
   ]
  },
  {
   "cell_type": "code",
   "execution_count": 21,
   "metadata": {},
   "outputs": [],
   "source": [
    "testloader = torch.utils.data.DataLoader(dataset=test_dataset, shuffle=False, batch_size=batch_size, **kwargs)"
   ]
  },
  {
   "cell_type": "code",
   "execution_count": 22,
   "metadata": {},
   "outputs": [
    {
     "name": "stderr",
     "output_type": "stream",
     "text": [
      "100%|███████████████████████████████████████████| 49/49 [03:39<00:00,  4.48s/it]"
     ]
    },
    {
     "name": "stdout",
     "output_type": "stream",
     "text": [
      "0.782062961130726\n",
      "80.72562358276645\n"
     ]
    },
    {
     "name": "stderr",
     "output_type": "stream",
     "text": [
      "\n"
     ]
    }
   ],
   "source": [
    "test_loss = 0\n",
    "test_correct = 0\n",
    "test_count = 0\n",
    "for batch in tqdm(testloader):\n",
    "    inputs, labels = batch\n",
    "    inputs, labels = inputs.to(device), labels.to(device)\n",
    "    # forward + backward + optimize\n",
    "    outputs = model(inputs)\n",
    "    loss = criterion(outputs, labels)\n",
    "    test_loss += loss.item()\n",
    "    count =  torch.eq(torch.argmax(outputs.data, dim=1), labels).sum().item()\n",
    "    test_correct += count\n",
    "    test_count += labels.size(0)\n",
    "test_loss /= len(testloader)\n",
    "test_accuracy = 100.0 * float(test_correct) / test_count\n",
    "print(test_loss)\n",
    "print(test_accuracy)"
   ]
  },
  {
   "cell_type": "code",
   "execution_count": 23,
   "metadata": {},
   "outputs": [],
   "source": [
    "torch.save(model.state_dict(), \"./saved_model.pt\")"
   ]
  }
 ],
 "metadata": {
  "kernelspec": {
   "display_name": "Python 3 (ipykernel)",
   "language": "python",
   "name": "python3"
  },
  "language_info": {
   "codemirror_mode": {
    "name": "ipython",
    "version": 3
   },
   "file_extension": ".py",
   "mimetype": "text/x-python",
   "name": "python",
   "nbconvert_exporter": "python",
   "pygments_lexer": "ipython3",
   "version": "3.8.13"
  }
 },
 "nbformat": 4,
 "nbformat_minor": 4
}
